{
  "nbformat": 4,
  "nbformat_minor": 0,
  "metadata": {
    "colab": {
      "provenance": [],
      "authorship_tag": "ABX9TyMk1Drd7WqivKFUCUMKD6l9",
      "include_colab_link": true
    },
    "kernelspec": {
      "name": "ir",
      "display_name": "R"
    },
    "language_info": {
      "name": "R"
    }
  },
  "cells": [
    {
      "cell_type": "markdown",
      "metadata": {
        "id": "view-in-github",
        "colab_type": "text"
      },
      "source": [
        "<a href=\"https://colab.research.google.com/github/marcus-wuertz/Analytics-Code/blob/main/DS4220_HW1.ipynb\" target=\"_parent\"><img src=\"https://colab.research.google.com/assets/colab-badge.svg\" alt=\"Open In Colab\"/></a>"
      ]
    },
    {
      "cell_type": "markdown",
      "source": [
        "## **Question 1**"
      ],
      "metadata": {
        "id": "Tdnl7j3n2D1g"
      }
    },
    {
      "cell_type": "code",
      "source": [
        "#install.packages(c('vtable', 'readxl'))\n",
        "library('vtable')\n",
        "library('readxl')\n",
        "\n",
        "# Read Electric production data\n",
        "electric_data <- read.csv('/content/Electric_Production.csv')\n",
        "\n",
        "# Compute arithmetic mean\n",
        "arithmetic_mean <- mean(electric_data$Electricity)\n",
        "cat('Arithmetic Mean:', arithmetic_mean)"
      ],
      "metadata": {
        "id": "BQdcYv1UU1qd",
        "colab": {
          "base_uri": "https://localhost:8080/"
        },
        "outputId": "42b078ad-5533-4708-9a0b-2741184c1335"
      },
      "execution_count": null,
      "outputs": [
        {
          "output_type": "stream",
          "name": "stdout",
          "text": [
            "Arithmetic Mean: 88.84722"
          ]
        }
      ]
    },
    {
      "cell_type": "markdown",
      "source": [
        "## **Question 2**"
      ],
      "metadata": {
        "id": "yA-oFnKo19H3"
      }
    },
    {
      "cell_type": "code",
      "source": [
        "#Find the minimum and maximum of the data set\n",
        "electric_min <- min(electric_data$Electricity)\n",
        "electric_max <- max(electric_data$Electricity)\n",
        "\n",
        "#get the sum of the numbers and divide by 2\n",
        "Electric_sum <- sum(electric_min, electric_max)\n",
        "Mid_range <- Electric_sum/2\n",
        "cat('Midrange:', Mid_range)\n",
        "\n",
        "# Mid range can be problematic because its constructed from the outliers in your data"
      ],
      "metadata": {
        "colab": {
          "base_uri": "https://localhost:8080/"
        },
        "id": "BMgn_BWH2BLe",
        "outputId": "c5d733db-4f37-4434-fd45-a3ae33aef507"
      },
      "execution_count": null,
      "outputs": [
        {
          "output_type": "stream",
          "name": "stdout",
          "text": [
            "Midrange: 92.35995"
          ]
        }
      ]
    },
    {
      "cell_type": "markdown",
      "source": [
        "## **Question 3**"
      ],
      "metadata": {
        "id": "BbWCCZ1_39hf"
      }
    },
    {
      "cell_type": "code",
      "source": [
        "# Get the product of all numbers\n",
        "Electricity_prod <- prod(electric_data$Electricity)\n",
        "\n",
        "# calculate the Nth root\n",
        "geoMean <- (Electricity_prod)^(1/length(Electricity_prod))\n",
        "cat('Geometric Mean:', geoMean)"
      ],
      "metadata": {
        "colab": {
          "base_uri": "https://localhost:8080/"
        },
        "id": "l9MMml5R4GHo",
        "outputId": "ef030b72-b77f-4c94-e03d-3e08936740a1"
      },
      "execution_count": null,
      "outputs": [
        {
          "output_type": "stream",
          "name": "stdout",
          "text": [
            "Geometric Mean: Inf"
          ]
        }
      ]
    },
    {
      "cell_type": "markdown",
      "source": [
        "## **Question 4**"
      ],
      "metadata": {
        "id": "Ai_1SIba5sJ5"
      }
    },
    {
      "cell_type": "code",
      "source": [
        "#compute harmonic mean\n",
        "Harm_mean <- length(electric_data$Electricity)/sum(1/electric_data$Electricity)\n",
        "cat(\"Harmonic Mean:\", Harm_mean)"
      ],
      "metadata": {
        "colab": {
          "base_uri": "https://localhost:8080/"
        },
        "id": "y8RPhdrx50aB",
        "outputId": "dabf60a7-eff0-45df-8e55-e3bd4e06a174"
      },
      "execution_count": null,
      "outputs": [
        {
          "output_type": "stream",
          "name": "stdout",
          "text": [
            "Harmonic Mean: 86.04172"
          ]
        }
      ]
    },
    {
      "cell_type": "markdown",
      "source": [
        "## **Question 5**"
      ],
      "metadata": {
        "id": "KcY4aRtw6yQK"
      }
    },
    {
      "cell_type": "code",
      "source": [
        "# set seed\n",
        "set.seed(12)\n",
        "\n",
        "#add your weights\n",
        "weights <- runif(length(electric_data$Electricity), 0.1, 1.8)\n",
        "\n",
        "#calculate weighted average\n",
        "weighted_avg <- sum(weights*electric_data$Electricity)/sum(weights)\n",
        "cat('Weighted Average:', weighted_avg)"
      ],
      "metadata": {
        "colab": {
          "base_uri": "https://localhost:8080/"
        },
        "id": "V8aQOJdk62gS",
        "outputId": "7f0ca2f0-a8ea-4609-e4ad-af4f1652c731"
      },
      "execution_count": null,
      "outputs": [
        {
          "output_type": "stream",
          "name": "stdout",
          "text": [
            "Weighted Average: 88.7209"
          ]
        }
      ]
    },
    {
      "cell_type": "markdown",
      "source": [
        "## **Question 6**"
      ],
      "metadata": {
        "id": "cxfKUkkC7_Pr"
      }
    },
    {
      "cell_type": "code",
      "source": [
        "cat('Arithmetic Mean:', arithmetic_mean)\n",
        "cat('\\nMidrange:', Mid_range)\n",
        "cat('\\nGeometric Mean:', geoMean)\n",
        "cat(\"\\nHarmonic Mean:\", Harm_mean)\n",
        "cat('\\nWeighted Average:', weighted_avg)\n",
        "\n",
        "# The Harmonic mean is the always the smallest, while the Arithmetic mean is typically the largest\n"
      ],
      "metadata": {
        "colab": {
          "base_uri": "https://localhost:8080/"
        },
        "id": "QZnDoxiZ8Ike",
        "outputId": "a0954f56-72fe-4661-a23d-1bc4135b035c"
      },
      "execution_count": null,
      "outputs": [
        {
          "output_type": "stream",
          "name": "stdout",
          "text": [
            "Arithmetic Mean: 88.84722\n",
            "Midrange: 92.35995\n",
            "Geometric Mean: Inf\n",
            "Harmonic Mean: 86.04172\n",
            "Weighted Average: 88.7209"
          ]
        }
      ]
    },
    {
      "cell_type": "markdown",
      "source": [
        "## **Question 7**"
      ],
      "metadata": {
        "id": "NPX-BzDq90zQ"
      }
    },
    {
      "cell_type": "code",
      "source": [
        "# compute mean with 1% trim\n",
        "Trim_mean <- mean(electric_data$Electricity, trim =0.01)\n",
        "\n",
        "#Print\n",
        "cat('Mean:', arithmetic_mean)\n",
        "cat('\\nTrimmed Mean:', Trim_mean)"
      ],
      "metadata": {
        "colab": {
          "base_uri": "https://localhost:8080/"
        },
        "id": "sGsgTddg94fv",
        "outputId": "fe57823b-b58b-4539-e21a-4afe95e0b242"
      },
      "execution_count": null,
      "outputs": [
        {
          "output_type": "stream",
          "name": "stdout",
          "text": [
            "Mean: 88.84722\n",
            "Trimmed Mean: 88.82602"
          ]
        }
      ]
    },
    {
      "cell_type": "markdown",
      "source": [
        "## **Question 8**"
      ],
      "metadata": {
        "id": "n5qE5JaOAQ8_"
      }
    },
    {
      "cell_type": "code",
      "source": [
        "# install package\n",
        "#install.packages('statar')\n",
        "library(statar)\n",
        "\n",
        "#perform windzorization\n",
        "electric_windsor <- winsorize(electric_data$Electricity, probs=c(0.025, 0.975), verbose=FALSE)\n",
        "mean_winsor <- mean(electric_windsor)\n",
        "cat(\"Winsorized Mean:\", mean_winsor)"
      ],
      "metadata": {
        "colab": {
          "base_uri": "https://localhost:8080/"
        },
        "id": "4-o3ffDKATZ-",
        "outputId": "9f4e5380-5a9d-4f48-ace4-8cfeb6b35a02"
      },
      "execution_count": null,
      "outputs": [
        {
          "output_type": "stream",
          "name": "stdout",
          "text": [
            "Winsorized Mean: 88.7991"
          ]
        }
      ]
    },
    {
      "cell_type": "markdown",
      "source": [
        "## **Summary**"
      ],
      "metadata": {
        "id": "NIsZVdbGCo48"
      }
    },
    {
      "cell_type": "code",
      "source": [
        "cat('Arithmetic Mean:', arithmetic_mean)\n",
        "cat('\\nMidrange:', Mid_range)\n",
        "cat('\\nGeometric Mean:', geoMean)\n",
        "cat(\"\\nHarmonic Mean:\", Harm_mean)\n",
        "cat('\\nWeighted Average:', weighted_avg)\n",
        "cat('\\nTrimmed Mean:', Trim_mean)\n",
        "cat(\"\\nWinsorized Mean:\", mean_winsor)"
      ],
      "metadata": {
        "colab": {
          "base_uri": "https://localhost:8080/"
        },
        "id": "X_hZGRCxCtLk",
        "outputId": "5c35aafb-ba5e-4989-ae43-6d436c0bcaef"
      },
      "execution_count": null,
      "outputs": [
        {
          "output_type": "stream",
          "name": "stdout",
          "text": [
            "Arithmetic Mean: 88.84722\n",
            "Midrange: 92.35995\n",
            "Geometric Mean: Inf\n",
            "Harmonic Mean: 86.04172\n",
            "Weighted Average: 88.7209\n",
            "Trimmed Mean: 88.82602\n",
            "Winsorized Mean: 88.7991"
          ]
        }
      ]
    }
  ]
}