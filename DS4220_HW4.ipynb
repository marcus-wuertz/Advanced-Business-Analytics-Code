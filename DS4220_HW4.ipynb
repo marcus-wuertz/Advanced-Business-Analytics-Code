{
  "cells": [
    {
      "cell_type": "markdown",
      "metadata": {
        "id": "view-in-github",
        "colab_type": "text"
      },
      "source": [
        "<a href=\"https://colab.research.google.com/github/marcus-wuertz/Analytics-Code/blob/main/DS4220_HW4.ipynb\" target=\"_parent\"><img src=\"https://colab.research.google.com/assets/colab-badge.svg\" alt=\"Open In Colab\"/></a>"
      ]
    },
    {
      "cell_type": "markdown",
      "metadata": {
        "id": "oU8PXPPq6Y5N"
      },
      "source": [
        "# $\\color{darkblue}{\\text{Question 1}}$"
      ]
    },
    {
      "cell_type": "markdown",
      "metadata": {
        "id": "z_3n3efH6hH5"
      },
      "source": [
        "## $\\color{orange}{\\text{a)}}$"
      ]
    },
    {
      "cell_type": "markdown",
      "metadata": {
        "id": "hWtwYvV38sJI"
      },
      "source": [
        "#### $\\color{darkblue}{\\text{Naive Bayes}}$"
      ]
    },
    {
      "cell_type": "code",
      "execution_count": null,
      "metadata": {
        "id": "9WRvjqVe6wfM"
      },
      "outputs": [],
      "source": [
        "bc_data <- read.csv('/content/sample_data/breast cancer.csv')"
      ]
    },
    {
      "cell_type": "code",
      "execution_count": null,
      "metadata": {
        "id": "3zLvm4516_bt"
      },
      "outputs": [],
      "source": [
        "#install.packages('e1071')\n",
        "library(e1071)\n",
        "\n",
        "# convert target variable to be a factor (catergorical) instead of character\n",
        "bc_data$diagnosis <- as.factor(bc_data$diagnosis)\n",
        "\n",
        "# Naive Bayes model\n",
        "nb_model <- naiveBayes(diagnosis ~ ., data = bc_data, type='class')\n",
        "nb_pred <- predict(nb_model, newdata=bc_data, type = 'class')"
      ]
    },
    {
      "cell_type": "code",
      "execution_count": null,
      "metadata": {
        "colab": {
          "base_uri": "https://localhost:8080/",
          "height": 65
        },
        "id": "7iEpmPvD8Z23",
        "outputId": "af13b01f-e65d-4b14-fa4d-21a0d4e9baaf"
      },
      "outputs": [
        {
          "output_type": "display_data",
          "data": {
            "text/plain": [
              "       \n",
              "nb_pred   B   M\n",
              "      B 343  22\n",
              "      M  14 190"
            ]
          },
          "metadata": {}
        }
      ],
      "source": [
        "# Naive Bayes prediction table\n",
        "table(nb_pred, bc_data$diagnosis)"
      ]
    },
    {
      "cell_type": "markdown",
      "metadata": {
        "id": "MzxlvVoB8n4Q"
      },
      "source": [
        "#### $\\color{darkblue}{\\text{Linear Discriminant Analysis}}$"
      ]
    },
    {
      "cell_type": "code",
      "execution_count": null,
      "metadata": {
        "id": "-h5sRv7U8zXV"
      },
      "outputs": [],
      "source": [
        "#install.packages('MASS')\n",
        "library(MASS)\n",
        "\n",
        "# LDA model\n",
        "lda_model <- lda(diagnosis ~ ., data = bc_data)\n",
        "lda_pred <- predict(lda_model, newdata = bc_data)\n"
      ]
    },
    {
      "cell_type": "code",
      "execution_count": null,
      "metadata": {
        "colab": {
          "base_uri": "https://localhost:8080/",
          "height": 65
        },
        "id": "qN8250MM9MKO",
        "outputId": "e37e8a69-7f37-440d-97f8-2986483d854a"
      },
      "outputs": [
        {
          "output_type": "display_data",
          "data": {
            "text/plain": [
              "   \n",
              "      B   M\n",
              "  B 355  18\n",
              "  M   2 194"
            ]
          },
          "metadata": {}
        }
      ],
      "source": [
        "# Getting class labels for LDA model\n",
        "lda_probs <- as.data.frame(lda_pred$posterior)\n",
        "\n",
        "# Update class variable based on conditions\n",
        "lda_probs$class <- ifelse(lda_probs$B > 0.5, \"M\", \"B\")\n",
        "\n",
        "# LDA prediction table\n",
        "table(lda_pred$class, bc_data$diagnosis)"
      ]
    },
    {
      "cell_type": "markdown",
      "metadata": {
        "id": "10fvUIre9pIL"
      },
      "source": [
        "#### $\\color{darkblue}{\\text{Logistic Regression}}$"
      ]
    },
    {
      "cell_type": "code",
      "execution_count": null,
      "metadata": {
        "colab": {
          "base_uri": "https://localhost:8080/"
        },
        "id": "Zomc7KnW9q6L",
        "outputId": "ed243828-140a-48c0-f534-12f1570ac38c"
      },
      "outputs": [
        {
          "output_type": "stream",
          "name": "stderr",
          "text": [
            "Warning message:\n",
            "“glm.fit: algorithm did not converge”\n",
            "Warning message:\n",
            "“glm.fit: fitted probabilities numerically 0 or 1 occurred”\n"
          ]
        }
      ],
      "source": [
        "# Logistic Regression Model\n",
        "lr_model <- glm(diagnosis ~ ., data = bc_data, family = 'binomial')\n"
      ]
    },
    {
      "cell_type": "code",
      "execution_count": null,
      "metadata": {
        "colab": {
          "base_uri": "https://localhost:8080/",
          "height": 41
        },
        "id": "O56Q1IWG92td",
        "outputId": "07d7d749-9b6e-4b75-bae7-9d8124891a1d"
      },
      "outputs": [
        {
          "output_type": "display_data",
          "data": {
            "text/plain": [
              "   Min. 1st Qu.  Median    Mean 3rd Qu.    Max. \n",
              " 0.0000  0.0000  0.0000  0.3726  1.0000  1.0000 "
            ]
          },
          "metadata": {}
        }
      ],
      "source": [
        "# Predict logistic regression\n",
        "lr_pred <- predict(lr_model, type = 'response')\n",
        "\n",
        "# Get class labels for LR model\n",
        "lr_class <- ifelse(lr_pred > 0.5, 'M', 'B')\n",
        "\n",
        "# Get prediction summary // not a probability, gives us the summary in odds\n",
        "summary(lr_pred)"
      ]
    },
    {
      "cell_type": "code",
      "execution_count": null,
      "metadata": {
        "colab": {
          "base_uri": "https://localhost:8080/",
          "height": 41
        },
        "id": "_sQSjcPS99JV",
        "outputId": "7591dc80-eef4-4ddd-bdbe-c5bd2c34c329"
      },
      "outputs": [
        {
          "output_type": "display_data",
          "data": {
            "text/plain": [
              "   Min. 1st Qu.  Median    Mean 3rd Qu.    Max. \n",
              " 0.5000  0.5000  0.5000  0.5861  0.7311  0.7311 "
            ]
          },
          "metadata": {}
        }
      ],
      "source": [
        "# Probabilities\n",
        "lr_probs <- 1/(1 + exp(-lr_pred))\n",
        "\n",
        "# Summary // converted to probabilities\n",
        "summary(lr_probs)"
      ]
    },
    {
      "cell_type": "code",
      "execution_count": null,
      "metadata": {
        "colab": {
          "base_uri": "https://localhost:8080/"
        },
        "id": "-qQIfX8J9_4w",
        "outputId": "ad0da7c6-0967-414b-9461-933b6d111759"
      },
      "outputs": [
        {
          "output_type": "stream",
          "name": "stdout",
          "text": [
            "\n",
            "Call:  glm(formula = diagnosis ~ ., family = \"binomial\", data = bc_data)\n",
            "\n",
            "Coefficients:\n",
            "            (Intercept)                       id              radius_mean  \n",
            "              9.535e+01               -8.422e-07               -1.856e+03  \n",
            "           texture_mean           perimeter_mean                area_mean  \n",
            "              2.613e+01               -5.121e+00                1.850e+01  \n",
            "        smoothness_mean         compactness_mean           concavity_mean  \n",
            "              2.267e+04               -1.781e+04                7.035e+03  \n",
            "    concave.points_mean            symmetry_mean   fractal_dimension_mean  \n",
            "              1.449e+04               -7.373e+03                1.617e+04  \n",
            "              radius_se               texture_se             perimeter_se  \n",
            "             -7.733e+02               -2.418e+02               -3.304e+02  \n",
            "                area_se            smoothness_se           compactness_se  \n",
            "              5.952e+01                2.557e+03                3.204e+04  \n",
            "           concavity_se        concave.points_se              symmetry_se  \n",
            "             -2.622e+04                1.172e+05               -4.643e+04  \n",
            "   fractal_dimension_se             radius_worst            texture_worst  \n",
            "             -2.970e+05                6.686e+02                4.243e+01  \n",
            "        perimeter_worst               area_worst         smoothness_worst  \n",
            "              2.928e+01               -6.344e+00               -9.069e+03  \n",
            "      compactness_worst          concavity_worst     concave.points_worst  \n",
            "             -2.681e+03                3.069e+03                8.614e+01  \n",
            "         symmetry_worst  fractal_dimension_worst  \n",
            "              8.085e+03                2.637e+04  \n",
            "\n",
            "Degrees of Freedom: 568 Total (i.e. Null);  537 Residual\n",
            "Null Deviance:\t    751.4 \n",
            "Residual Deviance: 1.585e-05 \tAIC: 64\n"
          ]
        }
      ],
      "source": [
        "print(lr_model)"
      ]
    },
    {
      "cell_type": "markdown",
      "metadata": {
        "id": "QzFO8g-g-JWJ"
      },
      "source": [
        "# $\\color{darkblue}{\\text{Question 2}}$"
      ]
    },
    {
      "cell_type": "code",
      "execution_count": null,
      "metadata": {
        "colab": {
          "base_uri": "https://localhost:8080/",
          "height": 101
        },
        "id": "lyGS1Wkv-LNV",
        "outputId": "93e814cf-18d2-469a-d030-6aa989ab2418"
      },
      "outputs": [
        {
          "output_type": "display_data",
          "data": {
            "text/plain": [
              "       B                M         \n",
              " Min.   :0.0000   Min.   :0.0000  \n",
              " 1st Qu.:0.0000   1st Qu.:0.0000  \n",
              " Median :1.0000   Median :0.0000  \n",
              " Mean   :0.6396   Mean   :0.3604  \n",
              " 3rd Qu.:1.0000   3rd Qu.:1.0000  \n",
              " Max.   :1.0000   Max.   :1.0000  "
            ]
          },
          "metadata": {}
        }
      ],
      "source": [
        "#install.packages('caret')\n",
        "library(caret)\n",
        "\n",
        "# Naive Bayes model probabilities\n",
        "nb_mod_prob <- naiveBayes(diagnosis ~ ., data = bc_data, type='raw')\n",
        "nb_prob <- as.data.frame(predict(nb_mod_prob, newdata=bc_data, type = 'raw'))\n",
        "summary(nb_prob)"
      ]
    },
    {
      "cell_type": "code",
      "execution_count": null,
      "metadata": {
        "colab": {
          "base_uri": "https://localhost:8080/",
          "height": 41
        },
        "id": "RQpeijdgA-KY",
        "outputId": "ccac2dda-9907-4069-a53b-18ab04b39bad"
      },
      "outputs": [
        {
          "output_type": "display_data",
          "data": {
            "text/plain": [
              "    Min.  1st Qu.   Median     Mean  3rd Qu.     Max. \n",
              "0.000000 0.009607 0.994359 0.656730 0.999795 1.000000 "
            ]
          },
          "metadata": {}
        }
      ],
      "source": [
        "# LDA probabilities\n",
        "summary(lda_probs$B)"
      ]
    },
    {
      "cell_type": "code",
      "execution_count": null,
      "metadata": {
        "colab": {
          "base_uri": "https://localhost:8080/",
          "height": 41
        },
        "id": "hDQB0eKKMuSO",
        "outputId": "a4f73a0e-bbde-40d3-c82f-88797e5a409a"
      },
      "outputs": [
        {
          "output_type": "display_data",
          "data": {
            "text/plain": [
              "   Min. 1st Qu.  Median    Mean 3rd Qu.    Max. \n",
              " 0.5000  0.5000  0.5000  0.5861  0.7311  0.7311 "
            ]
          },
          "metadata": {}
        }
      ],
      "source": [
        "# LR probabilites\n",
        "summary(lr_probs)"
      ]
    },
    {
      "cell_type": "markdown",
      "metadata": {
        "id": "d4BMFiSxMxVL"
      },
      "source": [
        "The average probability of a tumor being benign is 63.96% for the Naive Bayes model, 65.67% for the LDA model, and 58.61% for the LR model. The three classification models all agree that there is difference betwen the groups, with the chance of the diagnosis being benign being greater than that of it being malignant."
      ]
    },
    {
      "cell_type": "markdown",
      "metadata": {
        "id": "px1a5BuXM0lY"
      },
      "source": [
        "## $\\color{orange}{\\text{b)}}$"
      ]
    },
    {
      "cell_type": "code",
      "execution_count": null,
      "metadata": {
        "colab": {
          "base_uri": "https://localhost:8080/",
          "height": 137
        },
        "id": "9uR9FHOlN_qx",
        "outputId": "0b9fc535-c79a-4289-846a-6afb2d95f250"
      },
      "outputs": [
        {
          "output_type": "display_data",
          "data": {
            "text/plain": [
              "\n",
              "\tAnderson-Darling normality test\n",
              "\n",
              "data:  benign_test$id\n",
              "A = 102.32, p-value < 2.2e-16\n"
            ]
          },
          "metadata": {}
        },
        {
          "output_type": "display_data",
          "data": {
            "text/plain": [
              "\n",
              "\tAnderson-Darling normality test\n",
              "\n",
              "data:  malignant_test$id\n",
              "A = 57.024, p-value < 2.2e-16\n"
            ]
          },
          "metadata": {}
        }
      ],
      "source": [
        "#install.packages(\"FSA\")\n",
        "#install.packages(\"nortest\")\n",
        "library(\"FSA\")\n",
        "library(\"nortest\")\n",
        "\n",
        "# AD test for tumors that are Benign(B) across each tumor (id).\n",
        "benign_test <- bc_data[bc_data$diagnosis == \"B\", ]\n",
        "ad.test(benign_test$id)\n",
        "\n",
        "# AD test for tumors that are Malignant(M) across each tumor.\n",
        "malignant_test <- bc_data[bc_data$diagnosis == \"M\", ]\n",
        "ad.test(malignant_test$id)"
      ]
    },
    {
      "cell_type": "markdown",
      "metadata": {
        "id": "muX2RAeiOvNU"
      },
      "source": [
        "Since the p-values are less than 0.05, we reject the null hypothesis that the distribution is normal. Will perform a non-parametric test to determine if the means are different."
      ]
    },
    {
      "cell_type": "code",
      "source": [
        "# Conducting KW test\n",
        "kruskal.test(diagnosis ~ id, data = bc_data)"
      ],
      "metadata": {
        "colab": {
          "base_uri": "https://localhost:8080/",
          "height": 77
        },
        "id": "1qvZyb-p-VTc",
        "outputId": "3ce369ef-b1c4-498f-cb21-d33e4ea35d96"
      },
      "execution_count": null,
      "outputs": [
        {
          "output_type": "display_data",
          "data": {
            "text/plain": [
              "\n",
              "\tKruskal-Wallis rank sum test\n",
              "\n",
              "data:  diagnosis by id\n",
              "Kruskal-Wallis chi-squared = 568, df = 568, p-value = 0.4921\n"
            ]
          },
          "metadata": {}
        }
      ]
    },
    {
      "cell_type": "markdown",
      "source": [
        "Because the KW test has a p-value greater than 0.05, we do not have evidence to reject the null hypothesis that the means are equal."
      ],
      "metadata": {
        "id": "TSF47zaUF-kX"
      }
    },
    {
      "cell_type": "markdown",
      "metadata": {
        "id": "AUVdZhCI-qFr"
      },
      "source": [
        "# $\\color{darkblue}{\\text{Question 3}}$"
      ]
    },
    {
      "cell_type": "code",
      "execution_count": null,
      "metadata": {
        "colab": {
          "base_uri": "https://localhost:8080/"
        },
        "id": "Uew1RFjf-4zS",
        "outputId": "7d8032b6-0da3-4451-bdbe-8ba5f7040f28"
      },
      "outputs": [
        {
          "output_type": "stream",
          "name": "stdout",
          "text": [
            "[1] -6.344\n",
            "[1] 0.001757259\n"
          ]
        }
      ],
      "source": [
        "# lr model coefficients\n",
        "#print(lr_model)\n",
        "\n",
        "# Interpret numeric variable 'AreaWorst'\n",
        "AreaWorst <-  -6.344e+00\n",
        "print(AreaWorst)\n",
        "\n",
        "# Getting the odds for AreaWorst\n",
        "print(exp(AreaWorst))\n"
      ]
    },
    {
      "cell_type": "markdown",
      "metadata": {
        "id": "vF96nIE1_kTv"
      },
      "source": [
        "Thus, the odds of Malignancy increase by a factor of 1.001757259 for addition to the area worst mean."
      ]
    },
    {
      "cell_type": "code",
      "source": [
        "# Interpret numeric variable 'RadiusSe'\n",
        "RadiusSe <- -7.733e+02\n",
        "print(RadiusSe)\n",
        "\n",
        "# Getting the odds for RadiusSe\n",
        "print(exp(RadiusSe))"
      ],
      "metadata": {
        "colab": {
          "base_uri": "https://localhost:8080/"
        },
        "id": "G6x4xrvYIYOJ",
        "outputId": "29678836-cf1c-49a8-dd08-36ecd14dbd4a"
      },
      "execution_count": null,
      "outputs": [
        {
          "output_type": "stream",
          "name": "stdout",
          "text": [
            "[1] -773.3\n",
            "[1] 0\n"
          ]
        }
      ]
    },
    {
      "cell_type": "markdown",
      "source": [
        "Addition to the radius se mean does not increase the odds of malignancy."
      ],
      "metadata": {
        "id": "mUslnIZaIZmc"
      }
    }
  ],
  "metadata": {
    "colab": {
      "provenance": [],
      "include_colab_link": true
    },
    "kernelspec": {
      "display_name": "R",
      "name": "ir"
    },
    "language_info": {
      "name": "R"
    }
  },
  "nbformat": 4,
  "nbformat_minor": 0
}