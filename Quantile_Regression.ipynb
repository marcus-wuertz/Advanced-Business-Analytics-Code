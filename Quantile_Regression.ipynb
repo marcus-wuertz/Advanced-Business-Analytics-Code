{
  "cells": [
    {
      "cell_type": "markdown",
      "metadata": {
        "id": "view-in-github",
        "colab_type": "text"
      },
      "source": [
        "<a href=\"https://colab.research.google.com/github/marcus-wuertz/Analytics-Code/blob/main/Quantile_Regression.ipynb\" target=\"_parent\"><img src=\"https://colab.research.google.com/assets/colab-badge.svg\" alt=\"Open In Colab\"/></a>"
      ]
    },
    {
      "cell_type": "markdown",
      "source": [
        "## $\\color{red}{\\text{Lecture Overview}}$\n",
        "1. **Quantile Regression**\n",
        "2. **Developing the Analytic Task**\n",
        "3. **Data Transformation**\n",
        "4. **Data Visualization**\n",
        "5. **Data Modeling**\n",
        "6. **Compare Multpile Linear Regression with Quantile Regression**"
      ],
      "metadata": {
        "id": "XiRUjyF5mLy9"
      }
    },
    {
      "cell_type": "markdown",
      "metadata": {
        "id": "8z5gI5LHl5bS"
      },
      "source": [
        "## $\\color{red}{\\text{Quantile Regression}}$\n",
        "\n",
        "1. Muliple linear regression models the expected value of the dependent variable given a set of independent variables\n",
        "    - $E(y|X)=b_0 + b_1X_1 + ... + b_kX_k $\n",
        "    - $y$ is the **dependent variable** and $X_1, X_2, ..., X_k$ are the **independent variables**\n",
        "2. Multiple linear regression also assumes that the model has a constant error\n",
        "3. Quantile regression models the quantile of the dependent variable given a set of independent variables\n",
        "    - $E(q(y)|X)=b_0 + b_1X_1 + ... + b_kX_k $\n",
        "    - $q(y)$ is the **quantile of the dependent variable** and $X_1, X_2, ..., X_k$ are the **independent variables**"
      ]
    },
    {
      "cell_type": "markdown",
      "metadata": {
        "id": "97Zuf29Rl5bb"
      },
      "source": [
        "## $\\color{red}{\\text{Import Required Packages}}$"
      ]
    },
    {
      "cell_type": "code",
      "execution_count": 1,
      "metadata": {
        "id": "bscm1CuVl5bc"
      },
      "outputs": [],
      "source": [
        "import pandas as pd\n",
        "import numpy as np\n",
        "\n",
        "%matplotlib inline\n",
        "import matplotlib.pylab as plt"
      ]
    },
    {
      "cell_type": "markdown",
      "metadata": {
        "id": "mlaKel0Wl5bf"
      },
      "source": [
        "## $\\color{red}{\\text{Import Data}}$"
      ]
    },
    {
      "cell_type": "code",
      "execution_count": null,
      "metadata": {
        "scrolled": false,
        "id": "vORARpaOl5bg"
      },
      "outputs": [],
      "source": []
    },
    {
      "cell_type": "code",
      "source": [
        "from google.colab import drive\n",
        "drive.mount('/content/drive')"
      ],
      "metadata": {
        "colab": {
          "base_uri": "https://localhost:8080/"
        },
        "id": "gOPuGC5jFozi",
        "outputId": "ae20134d-61ed-43d0-8463-57bf3477c576"
      },
      "execution_count": 2,
      "outputs": [
        {
          "output_type": "stream",
          "name": "stdout",
          "text": [
            "Mounted at /content/drive\n"
          ]
        }
      ]
    },
    {
      "cell_type": "code",
      "source": [
        "%cd /content/drive/MyDrive/Python Data\n",
        "housing_df=pd.read_csv('housingData.csv')"
      ],
      "metadata": {
        "id": "xZiqUIAUrEOf",
        "colab": {
          "base_uri": "https://localhost:8080/"
        },
        "outputId": "2f56c7c4-cc9f-4603-a1ba-dcbc6adb98dc"
      },
      "execution_count": 3,
      "outputs": [
        {
          "output_type": "stream",
          "name": "stdout",
          "text": [
            "/content/drive/MyDrive/Python Data\n"
          ]
        }
      ]
    },
    {
      "cell_type": "markdown",
      "metadata": {
        "id": "zaZGJE8Sl5bh"
      },
      "source": [
        "## $\\color{red}{\\text{Analytic Task}}$\n",
        "1. Using the housing data, build a **Quantile regression model** to predict **price**\n",
        "2. Perform data transformation methods wherever needed\n",
        "3. Perform data visualization tasks to develop a preliminary understanding of **price**\n",
        "4. Develop a model to predict **price**\n",
        "5. Assess the robustness of the model\n",
        "6. Interpret the model for insights"
      ]
    },
    {
      "cell_type": "markdown",
      "metadata": {
        "id": "Y8SdFX0tl5bi"
      },
      "source": [
        "## $\\color{red}{\\text{Data Transformation}}$\n"
      ]
    },
    {
      "cell_type": "markdown",
      "source": [
        "### $\\color{blue}{\\text{Missing Value Analysis}}$\n",
        "\n",
        "- Check missing values in the data"
      ],
      "metadata": {
        "id": "Q5_MKySppOTC"
      }
    },
    {
      "cell_type": "code",
      "execution_count": 4,
      "metadata": {
        "id": "PxAOQbEql5bk",
        "colab": {
          "base_uri": "https://localhost:8080/"
        },
        "outputId": "9231a40c-e0f2-4104-8f80-c83de3cdab81"
      },
      "outputs": [
        {
          "output_type": "execute_result",
          "data": {
            "text/plain": [
              "id               0.0\n",
              "sqft_above       0.0\n",
              "sqft_lot15       0.0\n",
              "sqft_living15    0.0\n",
              "long             0.0\n",
              "dtype: float64"
            ]
          },
          "metadata": {},
          "execution_count": 4
        }
      ],
      "source": [
        "# Function to compute missing values\n",
        "def percent_missing(data):\n",
        "    return data.isnull().sum().divide(len(data)).sort_values(ascending=False)\n",
        "\n",
        "# Using the function\n",
        "percent_missing(housing_df).head()"
      ]
    },
    {
      "cell_type": "markdown",
      "metadata": {
        "id": "sVvzD6owl5bl"
      },
      "source": [
        "### $\\color{blue}{\\text{Multicollinearity}}$\n",
        "\n",
        "1. Using a correlation plot, find variables with strong association with the dependent variable, **price**\n",
        "2. **Multicollinearity** occurs when variables have similar information\n",
        "    - Variables with a correlation greater than 0.70 are considered to have similar information\n",
        "    - One of the variables should not be included in the analysis\n",
        "3. Which variables are closely related to each other?"
      ]
    },
    {
      "cell_type": "code",
      "execution_count": 8,
      "metadata": {
        "id": "aBI9cVcGl5bm"
      },
      "outputs": [],
      "source": [
        " #!pip install dython\n",
        "from dython.nominal import associations\n",
        "import seaborn as sns\n",
        "\n",
        "def corrPlot(data):\n",
        "\n",
        "  # Use \"associations\" function to compute correlation between all variables\n",
        "  corr_matrix = associations(dataset=data, compute_only=True)['corr']\n",
        "\n",
        "  # Mask the upper triangle of correlation heatmap\n",
        "  mask_upper = np.triu(np.ones_like(corr_matrix, dtype=bool))\n",
        "\n",
        "  # Plotting correlation heatmap\n",
        "  plt.figure(figsize=(12, 8))\n",
        "  sns.heatmap(corr_matrix, annot=True, mask=mask_upper, cmap='coolwarm_r', fmt='.2f', vmin=-1, vmax=1)\n",
        "  plt.show()"
      ]
    },
    {
      "cell_type": "code",
      "source": [
        "## Run following cell before this one to define function\n",
        "# drop the following variables from the data as they are not needed for the analysis\n",
        "drop_vars=['id','date','zipcode','price']\n",
        "new_housing=housing_df.drop(drop_vars, axis=1)\n",
        "\n",
        "# use function to remove variables with high correlations\n",
        "dropped_vars, new_housing_v2=drop_highly_correlated(data=new_housing, threshold=0.7)\n",
        "\n",
        "#use function to get corrplot to see correlation\n",
        "corrPlot(data=new_housing_v2)"
      ],
      "metadata": {
        "id": "vhTfaqJWqCNX",
        "colab": {
          "base_uri": "https://localhost:8080/",
          "height": 770
        },
        "outputId": "dd0e7103-412d-42dc-9e55-2e1f028ec020"
      },
      "execution_count": 12,
      "outputs": [
        {
          "output_type": "display_data",
          "data": {
            "text/plain": [
              "<Figure size 1200x800 with 2 Axes>"
            ],
            "image/png": "[encoded data removed]"
          },
          "metadata": {}
        }
      ]
    },
    {
      "cell_type": "markdown",
      "metadata": {
        "id": "VuZyM14jl5bo"
      },
      "source": [
        "### $\\color{blue}{\\text{Removing Colinear Variables}}$\n",
        "- If correlation between variables are greater than 0.7, one of the variables should be removed"
      ]
    },
    {
      "cell_type": "code",
      "execution_count": 10,
      "metadata": {
        "id": "NTz5HdFVl5bp"
      },
      "outputs": [],
      "source": [
        "'''\n",
        "This function drops highly correlated variables given a threshold.\n",
        "It drops the variable with smaller variance\n",
        "'''\n",
        "\n",
        "def drop_highly_correlated(data, threshold):\n",
        "    cor_matrix = data.corr().abs()\n",
        "    sol = (cor_matrix.where(np.triu(np.ones(cor_matrix.shape), k=1).astype(bool))).unstack().dropna()\n",
        "\n",
        "    to_drop=[]\n",
        "    for i in range(len(sol[sol > threshold].index.tolist())):\n",
        "        var1 = sol[sol >= threshold].index.tolist()[i][0]\n",
        "        var2 = sol[sol >= threshold].index.tolist()[i][1]\n",
        "\n",
        "        if(data[var1].var() < data[var2].var()): to_drop.append(var1)\n",
        "        else: to_drop.append(var2)\n",
        "\n",
        "    dropped_vars = list(set(to_drop))\n",
        "    return dropped_vars, data.drop(dropped_vars, axis=1)"
      ]
    },
    {
      "cell_type": "markdown",
      "metadata": {
        "id": "rpxVAgbdl5bq"
      },
      "source": [
        "### $\\color{blue}{\\text{Removing Near Zero-Variance Variables}}$\n",
        "- Some variables have little or no variation. They do not add much value to the model"
      ]
    },
    {
      "cell_type": "code",
      "execution_count": 13,
      "metadata": {
        "id": "gEnK8chCl5br"
      },
      "outputs": [],
      "source": [
        "from sklearn.feature_selection import VarianceThreshold as varThresh\n",
        "\n",
        "vThreshold=varThresh(threshold=0.1)\n",
        "vThreshold.fit_transform(new_housing_v2)\n",
        "\n",
        "# get variables with greater variance\n",
        "vars= new_housing_v2.columns[vThreshold.get_support()]\n",
        "\n",
        "# subset the data for variables with greater variance\n",
        "housing_varDf=new_housing_v2[vars]"
      ]
    },
    {
      "cell_type": "markdown",
      "metadata": {
        "id": "pVC9zlN1l5br"
      },
      "source": [
        "### $\\color{blue}{\\text{Standardization}}$\n",
        "\n",
        "- To reduce the effect of outliers"
      ]
    },
    {
      "cell_type": "code",
      "source": [
        "from sklearn.preprocessing import StandardScaler as ss\n",
        "\n",
        "# standardize data\n",
        "housing_std=ss().fit_transform(housing_varDf)\n",
        "housing_stdDf=pd.DataFrame(housing_std, columns=housing_varDf.columns)\n",
        "\n",
        "# dont standardize dependent, its the one we're analyzing. thats why we take it out\n",
        "#bring dependent back into standardized data\n",
        "housing_std_full=pd.concat([housing_stdDf, housing_df['price']], axis=1)"
      ],
      "metadata": {
        "id": "pOxGchMqrry_"
      },
      "execution_count": 14,
      "outputs": []
    },
    {
      "cell_type": "markdown",
      "source": [
        "### $\\color{blue}{\\text{Data Partitioning}}$\n",
        "\n",
        "1. Identify dependent and independent variables\n",
        "2. Partition the data such that 80% is used for training and 20% is used for testing"
      ],
      "metadata": {
        "id": "6fEmXyO5qqNz"
      }
    },
    {
      "cell_type": "code",
      "execution_count": 15,
      "metadata": {
        "id": "exwDEMpdl5bs"
      },
      "outputs": [],
      "source": [
        "from sklearn.model_selection import train_test_split as tts\n",
        "\n",
        "# independent variables to be used in the model\n",
        "indVar=housing_std_full\n",
        "depVar=housing_std_full['price']\n",
        "\n",
        "# partitionm data into training and testing\n",
        "trainX,testX,trainY,testY=tts(indVar,depVar,test_size=0.2,random_state=45)"
      ]
    },
    {
      "cell_type": "markdown",
      "metadata": {
        "id": "RczB_Topl5bt"
      },
      "source": [
        "### $\\color{blue}{\\text{Model Fitting and Result}}$"
      ]
    },
    {
      "cell_type": "markdown",
      "source": [
        "#### $\\color{green}{\\text{Quantile Regression}}$"
      ],
      "metadata": {
        "id": "I0Ys7D6IloUb"
      }
    },
    {
      "cell_type": "code",
      "execution_count": 16,
      "metadata": {
        "id": "1V3CpDizl5bt",
        "colab": {
          "base_uri": "https://localhost:8080/"
        },
        "outputId": "63379087-9f41-4b70-9803-9fc9e133d254"
      },
      "outputs": [
        {
          "output_type": "stream",
          "name": "stdout",
          "text": [
            "                         QuantReg Regression Results                          \n",
            "==============================================================================\n",
            "Dep. Variable:                  price   Pseudo R-squared:               0.4155\n",
            "Model:                       QuantReg   Bandwidth:                   2.721e+04\n",
            "Method:                 Least Squares   Sparsity:                    6.350e+05\n",
            "Date:                Mon, 04 Mar 2024   No. Observations:                17290\n",
            "Time:                        19:50:32   Df Residuals:                    17280\n",
            "                                        Df Model:                            9\n",
            "=================================================================================\n",
            "                    coef    std err          t      P>|t|      [0.025      0.975]\n",
            "---------------------------------------------------------------------------------\n",
            "Intercept      6.783e+05   1932.247    351.034      0.000    6.74e+05    6.82e+05\n",
            "bedrooms      -4.952e+04   2742.893    -18.056      0.000   -5.49e+04   -4.41e+04\n",
            "sqft_living    2.875e+05   3671.628     78.299      0.000     2.8e+05    2.95e+05\n",
            "sqft_lot      -6195.3621   2422.270     -2.558      0.011   -1.09e+04   -1447.468\n",
            "floors         4.566e+04   2837.195     16.093      0.000    4.01e+04    5.12e+04\n",
            "view           8.903e+04   2069.168     43.028      0.000     8.5e+04    9.31e+04\n",
            "condition      1.421e+04   2130.822      6.670      0.000       1e+04    1.84e+04\n",
            "sqft_basement   282.5777   2624.553      0.108      0.914   -4861.812    5426.967\n",
            "yr_built      -7.519e+04   2723.224    -27.612      0.000   -8.05e+04   -6.99e+04\n",
            "yr_renovated   1.849e+04   2060.177      8.975      0.000    1.45e+04    2.25e+04\n",
            "=================================================================================\n"
          ]
        }
      ],
      "source": [
        "import statsmodels.api as sm\n",
        "import statsmodels.formula.api as smf\n",
        "\n",
        "# join all variables like a linear equation\n",
        "equation=' + '.join(trainX.drop('price', axis=1).columns)\n",
        "\n",
        "#regression equation\n",
        "reg_formula='price ~ '+equation\n",
        "\n",
        "#build the quantile regression model\n",
        "quant_reg=smf.quantreg(reg_formula, trainX).fit(0.8)\n",
        "print(quant_reg.summary())"
      ]
    },
    {
      "cell_type": "markdown",
      "source": [
        "#### $\\color{green}{\\text{Multiple Linear Regression}}$"
      ],
      "metadata": {
        "id": "WZDn1f5qlyZj"
      }
    },
    {
      "cell_type": "code",
      "source": [
        "# add an intercept term\n",
        "trainX=sm.add_constant(trainX)\n",
        "\n",
        "#model with the training data\n",
        "mlr_model=sm.OLS(trainX['price'],trainX.drop('price',axis=1)).fit()\n",
        "\n",
        "#print model summary\n",
        "print(mlr_model.summary())"
      ],
      "metadata": {
        "id": "Hh9V3fA9l54-",
        "colab": {
          "base_uri": "https://localhost:8080/"
        },
        "outputId": "a3f4c145-4c5d-4e9e-e0b2-308d2edfc7ba"
      },
      "execution_count": 17,
      "outputs": [
        {
          "output_type": "stream",
          "name": "stdout",
          "text": [
            "                            OLS Regression Results                            \n",
            "==============================================================================\n",
            "Dep. Variable:                  price   R-squared:                       0.585\n",
            "Model:                            OLS   Adj. R-squared:                  0.585\n",
            "Method:                 Least Squares   F-statistic:                     2712.\n",
            "Date:                Mon, 04 Mar 2024   Prob (F-statistic):               0.00\n",
            "Time:                        19:50:37   Log-Likelihood:            -2.3846e+05\n",
            "No. Observations:               17290   AIC:                         4.769e+05\n",
            "Df Residuals:                   17280   BIC:                         4.770e+05\n",
            "Df Model:                           9                                         \n",
            "Covariance Type:            nonrobust                                         \n",
            "=================================================================================\n",
            "                    coef    std err          t      P>|t|      [0.025      0.975]\n",
            "---------------------------------------------------------------------------------\n",
            "const          5.402e+05   1797.331    300.579      0.000    5.37e+05    5.44e+05\n",
            "bedrooms      -4.753e+04   2227.486    -21.336      0.000   -5.19e+04   -4.32e+04\n",
            "sqft_living    2.849e+05   2870.832     99.254      0.000    2.79e+05    2.91e+05\n",
            "sqft_lot      -1.432e+04   1797.488     -7.965      0.000   -1.78e+04   -1.08e+04\n",
            "floors         3.676e+04   2356.110     15.604      0.000    3.21e+04    4.14e+04\n",
            "view           6.652e+04   1926.340     34.534      0.000    6.27e+04    7.03e+04\n",
            "condition      1.479e+04   1976.475      7.485      0.000    1.09e+04    1.87e+04\n",
            "sqft_basement -1.047e+04   2353.016     -4.449      0.000   -1.51e+04   -5855.784\n",
            "yr_built      -7.215e+04   2319.252    -31.110      0.000   -7.67e+04   -6.76e+04\n",
            "yr_renovated   1.217e+04   1898.083      6.414      0.000    8454.458    1.59e+04\n",
            "==============================================================================\n",
            "Omnibus:                    10689.714   Durbin-Watson:                   2.019\n",
            "Prob(Omnibus):                  0.000   Jarque-Bera (JB):           366290.023\n",
            "Skew:                           2.431   Prob(JB):                         0.00\n",
            "Kurtosis:                      25.018   Cond. No.                         2.97\n",
            "==============================================================================\n",
            "\n",
            "Notes:\n",
            "[1] Standard Errors assume that the covariance matrix of the errors is correctly specified.\n"
          ]
        }
      ]
    },
    {
      "cell_type": "markdown",
      "metadata": {
        "id": "lPb_-iPtl5bu"
      },
      "source": [
        "### $\\color{blue}{\\text{Model Prediction}}$\n",
        "\n",
        "- Predict the **price** of the testing data as a function of the independent variables"
      ]
    },
    {
      "cell_type": "markdown",
      "source": [
        "#### $\\color{green}{\\text{Quantile Regression}}$"
      ],
      "metadata": {
        "id": "PbaNZI68muRX"
      }
    },
    {
      "cell_type": "code",
      "execution_count": 18,
      "metadata": {
        "id": "kpN3-nDnl5bu"
      },
      "outputs": [],
      "source": [
        "# get predicted house prices for the quantile regression\n",
        "qr_pred_test=quant_reg.predict(testX)"
      ]
    },
    {
      "cell_type": "markdown",
      "source": [
        "#### $\\color{green}{\\text{Multiple Linear Regression}}$"
      ],
      "metadata": {
        "id": "1RWSC9NbmxIC"
      }
    },
    {
      "cell_type": "code",
      "source": [
        "# add constant to the testing data\n",
        "testX=sm.add_constant(testX)\n",
        "\n",
        "# predict for mlr\n",
        "mlr_pred=mlr_model.predict(testX.drop('price', axis=1))"
      ],
      "metadata": {
        "id": "UxgMj-cym0fW"
      },
      "execution_count": 19,
      "outputs": []
    },
    {
      "cell_type": "markdown",
      "metadata": {
        "id": "vUeNTP71l5bv"
      },
      "source": [
        "\n",
        "## $\\color{red}{\\text{Model Diagnostics}}$"
      ]
    },
    {
      "cell_type": "markdown",
      "metadata": {
        "id": "b0az9RKzl5by"
      },
      "source": [
        "### $\\color{blue}{\\text{Error Calculations}}$\n",
        "\n",
        "- Mean Error (ME), Root Mean Squared Error (RMSE)\n",
        "- Mean Absolute Error (MAE), Mean Percentage Error (MPE)\n",
        "- Mean Absolute Percentage Error (MAPE)"
      ]
    },
    {
      "cell_type": "markdown",
      "source": [
        "#### $\\color{green}{\\text{Quantile Regression}}$"
      ],
      "metadata": {
        "id": "Vqx897irp8tl"
      }
    },
    {
      "cell_type": "code",
      "execution_count": 22,
      "metadata": {
        "id": "zrXXegXKl5by",
        "colab": {
          "base_uri": "https://localhost:8080/"
        },
        "outputId": "ac987300-7005-4087-b41e-c7174deefedb"
      },
      "outputs": [
        {
          "output_type": "stream",
          "name": "stdout",
          "text": [
            "***************************** Testing Data********************************\n",
            "\n",
            "Regression statistics\n",
            "\n",
            "                      Mean Error (ME) : -137965.9932\n",
            "       Root Mean Squared Error (RMSE) : 283608.0653\n",
            "            Mean Absolute Error (MAE) : 209152.9574\n",
            "          Mean Percentage Error (MPE) : -43.1646\n",
            "Mean Absolute Percentage Error (MAPE) : 50.1250\n"
          ]
        }
      ],
      "source": [
        "#!pip install dmba\n",
        "from dmba import regressionSummary\n",
        "\n",
        "# compute the regression diagnostics\n",
        "print('***************************** Testing Data********************************')\n",
        "regressionSummary(testX['price'],qr_pred_test)"
      ]
    },
    {
      "cell_type": "markdown",
      "source": [
        "#### $\\color{green}{\\text{Multiple Linear Regression}}$"
      ],
      "metadata": {
        "id": "VYMRwzY0p_Lj"
      }
    },
    {
      "cell_type": "code",
      "source": [
        "\n",
        "\n",
        "# compute the multiple linear regression diagnostics\n",
        "print('***************************** Testing Data********************************')\n",
        "regressionSummary(testX['price'],mlr_pred)"
      ],
      "metadata": {
        "id": "gRAbP7Bh9NpU",
        "colab": {
          "base_uri": "https://localhost:8080/"
        },
        "outputId": "e617ebf6-b4b4-4cb4-9e84-1eed83ce1c0d"
      },
      "execution_count": 23,
      "outputs": [
        {
          "output_type": "stream",
          "name": "stdout",
          "text": [
            "***************************** Testing Data********************************\n",
            "\n",
            "Regression statistics\n",
            "\n",
            "                      Mean Error (ME) : -289.4742\n",
            "       Root Mean Squared Error (RMSE) : 244192.0543\n",
            "            Mean Absolute Error (MAE) : 158682.3531\n",
            "          Mean Percentage Error (MPE) : -10.9189\n",
            "Mean Absolute Percentage Error (MAPE) : 32.6947\n"
          ]
        }
      ]
    }
  ],
  "metadata": {
    "kernelspec": {
      "display_name": "Python 3 (ipykernel)",
      "language": "python",
      "name": "python3"
    },
    "language_info": {
      "codemirror_mode": {
        "name": "ipython",
        "version": 3
      },
      "file_extension": ".py",
      "mimetype": "text/x-python",
      "name": "python",
      "nbconvert_exporter": "python",
      "pygments_lexer": "ipython3",
      "version": "3.8.10"
    },
    "colab": {
      "provenance": [],
      "include_colab_link": true
    }
  },
  "nbformat": 4,
  "nbformat_minor": 0
}